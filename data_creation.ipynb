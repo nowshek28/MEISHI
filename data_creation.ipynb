{
 "cells": [
  {
   "cell_type": "code",
   "execution_count": null,
   "metadata": {},
   "outputs": [],
   "source": [
    "import pandas as pd\n",
    "import os"
   ]
  },
  {
   "cell_type": "code",
   "execution_count": null,
   "metadata": {},
   "outputs": [],
   "source": [
    "file_name = \"DATA.txt\"\n",
    "script_directory = os.getcwd()\n",
    "file_path = os.path.join(script_directory, file_name)\n",
    "data = pd.read_csv(f\"{file_path}\", sep='\\t', header=None, names=['Data','Type', 'None'])\n",
    "data"
   ]
  },
  {
   "cell_type": "code",
   "execution_count": null,
   "metadata": {},
   "outputs": [],
   "source": [
    "name = []\n",
    "for i in data['Data']:\n",
    "    #name.append(i.split('. ',1))\n",
    "    dat =i.split('. ',1)\n",
    "    dat .append('name')\n",
    "    name.append(dat[1:])\n",
    "\n",
    "name\n"
   ]
  },
  {
   "cell_type": "code",
   "execution_count": null,
   "metadata": {},
   "outputs": [],
   "source": [
    "file_name = \"Japan.csv\"\n",
    "script_directory = os.getcwd()\n",
    "file_path = os.path.join(script_directory, file_name)\n",
    "data = pd.read_csv(f\"{file_path}\", sep=',', header=None, names=['Company Name','Exchange:Ticker', 'Industry Group','Country','Broad Group','Sub Group','type'])\n",
    "data"
   ]
  },
  {
   "cell_type": "code",
   "execution_count": null,
   "metadata": {},
   "outputs": [],
   "source": [
    "selected_column = ['Company Name','type']\n",
    "#print(data[selected_column])\n",
    "for row in range(len(data)):\n",
    "    name.append(data.iloc[row][selected_column].values.tolist())\n",
    "\n",
    "name"
   ]
  },
  {
   "cell_type": "code",
   "execution_count": null,
   "metadata": {},
   "outputs": [],
   "source": [
    "len(name)"
   ]
  },
  {
   "cell_type": "code",
   "execution_count": null,
   "metadata": {},
   "outputs": [],
   "source": [
    "# Convert the list of lists to a Pandas DataFrame\n",
    "df = pd.DataFrame(name, columns=['Name', 'Type'])\n",
    "\n",
    "# Specify the file path\n",
    "csv_file_path = 'train_testdata.csv'\n",
    "file_path = os.path.join(script_directory, csv_file_path)\n",
    "\n",
    "# Writing data to CSV file using Pandas\n",
    "df.to_csv(csv_file_path, index=False)\n",
    "\n",
    "print(f'Data has been written to {csv_file_path}.')"
   ]
  }
 ],
 "metadata": {
  "kernelspec": {
   "display_name": "Python 3",
   "language": "python",
   "name": "python3"
  },
  "language_info": {
   "codemirror_mode": {
    "name": "ipython",
    "version": 3
   },
   "file_extension": ".py",
   "mimetype": "text/x-python",
   "name": "python",
   "nbconvert_exporter": "python",
   "pygments_lexer": "ipython3",
   "version": "3.9.13"
  }
 },
 "nbformat": 4,
 "nbformat_minor": 2
}
